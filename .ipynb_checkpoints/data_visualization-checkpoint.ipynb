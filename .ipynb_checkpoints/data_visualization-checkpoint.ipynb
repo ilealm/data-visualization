{
 "cells": [
  {
   "cell_type": "markdown",
   "metadata": {},
   "source": [
    "# Data Visualization"
   ]
  },
  {
   "cell_type": "markdown",
   "metadata": {},
   "source": [
    "### Imports that we are going to use"
   ]
  },
  {
   "cell_type": "code",
   "execution_count": 3,
   "metadata": {},
   "outputs": [],
   "source": [
    "# imports\n",
    "import pandas as pd\n",
    "import seaborn as sns\n",
    "import matplotlib.pyplot as plt"
   ]
  },
  {
   "cell_type": "markdown",
   "metadata": {},
   "source": [
    "## IMDB Movies from 2006 to 2016\n",
    "### Loading the information"
   ]
  },
  {
   "cell_type": "code",
   "execution_count": 4,
   "metadata": {},
   "outputs": [],
   "source": [
    "# movies = pd.read_csv('IMDB-Movie-Data.csv',index_col=\"Title\")\n",
    "movies = pd.read_csv('IMDB-Movie-Data.csv')"
   ]
  },
  {
   "cell_type": "markdown",
   "metadata": {},
   "source": [
    "### Showing the first 5 rows"
   ]
  },
  {
   "cell_type": "code",
   "execution_count": 5,
   "metadata": {},
   "outputs": [
    {
     "data": {
      "text/html": [
       "<div>\n",
       "<style scoped>\n",
       "    .dataframe tbody tr th:only-of-type {\n",
       "        vertical-align: middle;\n",
       "    }\n",
       "\n",
       "    .dataframe tbody tr th {\n",
       "        vertical-align: top;\n",
       "    }\n",
       "\n",
       "    .dataframe thead th {\n",
       "        text-align: right;\n",
       "    }\n",
       "</style>\n",
       "<table border=\"1\" class=\"dataframe\">\n",
       "  <thead>\n",
       "    <tr style=\"text-align: right;\">\n",
       "      <th></th>\n",
       "      <th>Rank</th>\n",
       "      <th>Title</th>\n",
       "      <th>Genre</th>\n",
       "      <th>Description</th>\n",
       "      <th>Director</th>\n",
       "      <th>Actors</th>\n",
       "      <th>Year</th>\n",
       "      <th>Runtime (Minutes)</th>\n",
       "      <th>Rating</th>\n",
       "      <th>Votes</th>\n",
       "      <th>Revenue (Millions)</th>\n",
       "      <th>Metascore</th>\n",
       "    </tr>\n",
       "  </thead>\n",
       "  <tbody>\n",
       "    <tr>\n",
       "      <th>0</th>\n",
       "      <td>1</td>\n",
       "      <td>Guardians of the Galaxy</td>\n",
       "      <td>Action,Adventure,Sci-Fi</td>\n",
       "      <td>A group of intergalactic criminals are forced ...</td>\n",
       "      <td>James Gunn</td>\n",
       "      <td>Chris Pratt, Vin Diesel, Bradley Cooper, Zoe S...</td>\n",
       "      <td>2014</td>\n",
       "      <td>121</td>\n",
       "      <td>8.1</td>\n",
       "      <td>757074</td>\n",
       "      <td>333.13</td>\n",
       "      <td>76.0</td>\n",
       "    </tr>\n",
       "    <tr>\n",
       "      <th>1</th>\n",
       "      <td>2</td>\n",
       "      <td>Prometheus</td>\n",
       "      <td>Adventure,Mystery,Sci-Fi</td>\n",
       "      <td>Following clues to the origin of mankind, a te...</td>\n",
       "      <td>Ridley Scott</td>\n",
       "      <td>Noomi Rapace, Logan Marshall-Green, Michael Fa...</td>\n",
       "      <td>2012</td>\n",
       "      <td>124</td>\n",
       "      <td>7.0</td>\n",
       "      <td>485820</td>\n",
       "      <td>126.46</td>\n",
       "      <td>65.0</td>\n",
       "    </tr>\n",
       "    <tr>\n",
       "      <th>2</th>\n",
       "      <td>3</td>\n",
       "      <td>Split</td>\n",
       "      <td>Horror,Thriller</td>\n",
       "      <td>Three girls are kidnapped by a man with a diag...</td>\n",
       "      <td>M. Night Shyamalan</td>\n",
       "      <td>James McAvoy, Anya Taylor-Joy, Haley Lu Richar...</td>\n",
       "      <td>2016</td>\n",
       "      <td>117</td>\n",
       "      <td>7.3</td>\n",
       "      <td>157606</td>\n",
       "      <td>138.12</td>\n",
       "      <td>62.0</td>\n",
       "    </tr>\n",
       "    <tr>\n",
       "      <th>3</th>\n",
       "      <td>4</td>\n",
       "      <td>Sing</td>\n",
       "      <td>Animation,Comedy,Family</td>\n",
       "      <td>In a city of humanoid animals, a hustling thea...</td>\n",
       "      <td>Christophe Lourdelet</td>\n",
       "      <td>Matthew McConaughey,Reese Witherspoon, Seth Ma...</td>\n",
       "      <td>2016</td>\n",
       "      <td>108</td>\n",
       "      <td>7.2</td>\n",
       "      <td>60545</td>\n",
       "      <td>270.32</td>\n",
       "      <td>59.0</td>\n",
       "    </tr>\n",
       "    <tr>\n",
       "      <th>4</th>\n",
       "      <td>5</td>\n",
       "      <td>Suicide Squad</td>\n",
       "      <td>Action,Adventure,Fantasy</td>\n",
       "      <td>A secret government agency recruits some of th...</td>\n",
       "      <td>David Ayer</td>\n",
       "      <td>Will Smith, Jared Leto, Margot Robbie, Viola D...</td>\n",
       "      <td>2016</td>\n",
       "      <td>123</td>\n",
       "      <td>6.2</td>\n",
       "      <td>393727</td>\n",
       "      <td>325.02</td>\n",
       "      <td>40.0</td>\n",
       "    </tr>\n",
       "  </tbody>\n",
       "</table>\n",
       "</div>"
      ],
      "text/plain": [
       "   Rank                    Title                     Genre  \\\n",
       "0     1  Guardians of the Galaxy   Action,Adventure,Sci-Fi   \n",
       "1     2               Prometheus  Adventure,Mystery,Sci-Fi   \n",
       "2     3                    Split           Horror,Thriller   \n",
       "3     4                     Sing   Animation,Comedy,Family   \n",
       "4     5            Suicide Squad  Action,Adventure,Fantasy   \n",
       "\n",
       "                                         Description              Director  \\\n",
       "0  A group of intergalactic criminals are forced ...            James Gunn   \n",
       "1  Following clues to the origin of mankind, a te...          Ridley Scott   \n",
       "2  Three girls are kidnapped by a man with a diag...    M. Night Shyamalan   \n",
       "3  In a city of humanoid animals, a hustling thea...  Christophe Lourdelet   \n",
       "4  A secret government agency recruits some of th...            David Ayer   \n",
       "\n",
       "                                              Actors  Year  Runtime (Minutes)  \\\n",
       "0  Chris Pratt, Vin Diesel, Bradley Cooper, Zoe S...  2014                121   \n",
       "1  Noomi Rapace, Logan Marshall-Green, Michael Fa...  2012                124   \n",
       "2  James McAvoy, Anya Taylor-Joy, Haley Lu Richar...  2016                117   \n",
       "3  Matthew McConaughey,Reese Witherspoon, Seth Ma...  2016                108   \n",
       "4  Will Smith, Jared Leto, Margot Robbie, Viola D...  2016                123   \n",
       "\n",
       "   Rating   Votes  Revenue (Millions)  Metascore  \n",
       "0     8.1  757074              333.13       76.0  \n",
       "1     7.0  485820              126.46       65.0  \n",
       "2     7.3  157606              138.12       62.0  \n",
       "3     7.2   60545              270.32       59.0  \n",
       "4     6.2  393727              325.02       40.0  "
      ]
     },
     "execution_count": 5,
     "metadata": {},
     "output_type": "execute_result"
    }
   ],
   "source": [
    "movies.head(5)"
   ]
  },
  {
   "cell_type": "markdown",
   "metadata": {},
   "source": [
    "### Showing the dataframe description"
   ]
  },
  {
   "cell_type": "code",
   "execution_count": 6,
   "metadata": {},
   "outputs": [
    {
     "data": {
      "text/plain": [
       "<bound method NDFrame.describe of      Rank                    Title                     Genre  \\\n",
       "0       1  Guardians of the Galaxy   Action,Adventure,Sci-Fi   \n",
       "1       2               Prometheus  Adventure,Mystery,Sci-Fi   \n",
       "2       3                    Split           Horror,Thriller   \n",
       "3       4                     Sing   Animation,Comedy,Family   \n",
       "4       5            Suicide Squad  Action,Adventure,Fantasy   \n",
       "..    ...                      ...                       ...   \n",
       "995   996     Secret in Their Eyes       Crime,Drama,Mystery   \n",
       "996   997          Hostel: Part II                    Horror   \n",
       "997   998   Step Up 2: The Streets       Drama,Music,Romance   \n",
       "998   999             Search Party          Adventure,Comedy   \n",
       "999  1000               Nine Lives     Comedy,Family,Fantasy   \n",
       "\n",
       "                                           Description              Director  \\\n",
       "0    A group of intergalactic criminals are forced ...            James Gunn   \n",
       "1    Following clues to the origin of mankind, a te...          Ridley Scott   \n",
       "2    Three girls are kidnapped by a man with a diag...    M. Night Shyamalan   \n",
       "3    In a city of humanoid animals, a hustling thea...  Christophe Lourdelet   \n",
       "4    A secret government agency recruits some of th...            David Ayer   \n",
       "..                                                 ...                   ...   \n",
       "995  A tight-knit team of rising investigators, alo...             Billy Ray   \n",
       "996  Three American college students studying abroa...              Eli Roth   \n",
       "997  Romantic sparks occur between two dance studen...            Jon M. Chu   \n",
       "998  A pair of friends embark on a mission to reuni...        Scot Armstrong   \n",
       "999  A stuffy businessman finds himself trapped ins...      Barry Sonnenfeld   \n",
       "\n",
       "                                                Actors  Year  \\\n",
       "0    Chris Pratt, Vin Diesel, Bradley Cooper, Zoe S...  2014   \n",
       "1    Noomi Rapace, Logan Marshall-Green, Michael Fa...  2012   \n",
       "2    James McAvoy, Anya Taylor-Joy, Haley Lu Richar...  2016   \n",
       "3    Matthew McConaughey,Reese Witherspoon, Seth Ma...  2016   \n",
       "4    Will Smith, Jared Leto, Margot Robbie, Viola D...  2016   \n",
       "..                                                 ...   ...   \n",
       "995  Chiwetel Ejiofor, Nicole Kidman, Julia Roberts...  2015   \n",
       "996  Lauren German, Heather Matarazzo, Bijou Philli...  2007   \n",
       "997  Robert Hoffman, Briana Evigan, Cassie Ventura,...  2008   \n",
       "998  Adam Pally, T.J. Miller, Thomas Middleditch,Sh...  2014   \n",
       "999  Kevin Spacey, Jennifer Garner, Robbie Amell,Ch...  2016   \n",
       "\n",
       "     Runtime (Minutes)  Rating   Votes  Revenue (Millions)  Metascore  \n",
       "0                  121     8.1  757074              333.13       76.0  \n",
       "1                  124     7.0  485820              126.46       65.0  \n",
       "2                  117     7.3  157606              138.12       62.0  \n",
       "3                  108     7.2   60545              270.32       59.0  \n",
       "4                  123     6.2  393727              325.02       40.0  \n",
       "..                 ...     ...     ...                 ...        ...  \n",
       "995                111     6.2   27585                 NaN       45.0  \n",
       "996                 94     5.5   73152               17.54       46.0  \n",
       "997                 98     6.2   70699               58.01       50.0  \n",
       "998                 93     5.6    4881                 NaN       22.0  \n",
       "999                 87     5.3   12435               19.64       11.0  \n",
       "\n",
       "[1000 rows x 12 columns]>"
      ]
     },
     "execution_count": 6,
     "metadata": {},
     "output_type": "execute_result"
    }
   ],
   "source": [
    "movies.describe"
   ]
  },
  {
   "cell_type": "markdown",
   "metadata": {},
   "source": [
    "### Showing the dataframe info"
   ]
  },
  {
   "cell_type": "code",
   "execution_count": 7,
   "metadata": {},
   "outputs": [
    {
     "data": {
      "text/plain": [
       "<bound method DataFrame.info of      Rank                    Title                     Genre  \\\n",
       "0       1  Guardians of the Galaxy   Action,Adventure,Sci-Fi   \n",
       "1       2               Prometheus  Adventure,Mystery,Sci-Fi   \n",
       "2       3                    Split           Horror,Thriller   \n",
       "3       4                     Sing   Animation,Comedy,Family   \n",
       "4       5            Suicide Squad  Action,Adventure,Fantasy   \n",
       "..    ...                      ...                       ...   \n",
       "995   996     Secret in Their Eyes       Crime,Drama,Mystery   \n",
       "996   997          Hostel: Part II                    Horror   \n",
       "997   998   Step Up 2: The Streets       Drama,Music,Romance   \n",
       "998   999             Search Party          Adventure,Comedy   \n",
       "999  1000               Nine Lives     Comedy,Family,Fantasy   \n",
       "\n",
       "                                           Description              Director  \\\n",
       "0    A group of intergalactic criminals are forced ...            James Gunn   \n",
       "1    Following clues to the origin of mankind, a te...          Ridley Scott   \n",
       "2    Three girls are kidnapped by a man with a diag...    M. Night Shyamalan   \n",
       "3    In a city of humanoid animals, a hustling thea...  Christophe Lourdelet   \n",
       "4    A secret government agency recruits some of th...            David Ayer   \n",
       "..                                                 ...                   ...   \n",
       "995  A tight-knit team of rising investigators, alo...             Billy Ray   \n",
       "996  Three American college students studying abroa...              Eli Roth   \n",
       "997  Romantic sparks occur between two dance studen...            Jon M. Chu   \n",
       "998  A pair of friends embark on a mission to reuni...        Scot Armstrong   \n",
       "999  A stuffy businessman finds himself trapped ins...      Barry Sonnenfeld   \n",
       "\n",
       "                                                Actors  Year  \\\n",
       "0    Chris Pratt, Vin Diesel, Bradley Cooper, Zoe S...  2014   \n",
       "1    Noomi Rapace, Logan Marshall-Green, Michael Fa...  2012   \n",
       "2    James McAvoy, Anya Taylor-Joy, Haley Lu Richar...  2016   \n",
       "3    Matthew McConaughey,Reese Witherspoon, Seth Ma...  2016   \n",
       "4    Will Smith, Jared Leto, Margot Robbie, Viola D...  2016   \n",
       "..                                                 ...   ...   \n",
       "995  Chiwetel Ejiofor, Nicole Kidman, Julia Roberts...  2015   \n",
       "996  Lauren German, Heather Matarazzo, Bijou Philli...  2007   \n",
       "997  Robert Hoffman, Briana Evigan, Cassie Ventura,...  2008   \n",
       "998  Adam Pally, T.J. Miller, Thomas Middleditch,Sh...  2014   \n",
       "999  Kevin Spacey, Jennifer Garner, Robbie Amell,Ch...  2016   \n",
       "\n",
       "     Runtime (Minutes)  Rating   Votes  Revenue (Millions)  Metascore  \n",
       "0                  121     8.1  757074              333.13       76.0  \n",
       "1                  124     7.0  485820              126.46       65.0  \n",
       "2                  117     7.3  157606              138.12       62.0  \n",
       "3                  108     7.2   60545              270.32       59.0  \n",
       "4                  123     6.2  393727              325.02       40.0  \n",
       "..                 ...     ...     ...                 ...        ...  \n",
       "995                111     6.2   27585                 NaN       45.0  \n",
       "996                 94     5.5   73152               17.54       46.0  \n",
       "997                 98     6.2   70699               58.01       50.0  \n",
       "998                 93     5.6    4881                 NaN       22.0  \n",
       "999                 87     5.3   12435               19.64       11.0  \n",
       "\n",
       "[1000 rows x 12 columns]>"
      ]
     },
     "execution_count": 7,
     "metadata": {},
     "output_type": "execute_result"
    }
   ],
   "source": [
    "movies.info"
   ]
  },
  {
   "cell_type": "markdown",
   "metadata": {},
   "source": [
    "### Dataset columns"
   ]
  },
  {
   "cell_type": "code",
   "execution_count": 8,
   "metadata": {},
   "outputs": [
    {
     "data": {
      "text/plain": [
       "Index(['Rank', 'Title', 'Genre', 'Description', 'Director', 'Actors', 'Year',\n",
       "       'Runtime (Minutes)', 'Rating', 'Votes', 'Revenue (Millions)',\n",
       "       'Metascore'],\n",
       "      dtype='object')"
      ]
     },
     "execution_count": 8,
     "metadata": {},
     "output_type": "execute_result"
    }
   ],
   "source": [
    "movies.columns"
   ]
  },
  {
   "cell_type": "markdown",
   "metadata": {},
   "source": [
    "### Create a subset of movies dataframe to group revenues by year"
   ]
  },
  {
   "cell_type": "code",
   "execution_count": 18,
   "metadata": {},
   "outputs": [
    {
     "data": {
      "text/html": [
       "<div>\n",
       "<style scoped>\n",
       "    .dataframe tbody tr th:only-of-type {\n",
       "        vertical-align: middle;\n",
       "    }\n",
       "\n",
       "    .dataframe tbody tr th {\n",
       "        vertical-align: top;\n",
       "    }\n",
       "\n",
       "    .dataframe thead th {\n",
       "        text-align: right;\n",
       "    }\n",
       "</style>\n",
       "<table border=\"1\" class=\"dataframe\">\n",
       "  <thead>\n",
       "    <tr style=\"text-align: right;\">\n",
       "      <th></th>\n",
       "      <th>Year</th>\n",
       "      <th>Rank</th>\n",
       "      <th>Runtime (Minutes)</th>\n",
       "      <th>Rating</th>\n",
       "      <th>Votes</th>\n",
       "      <th>Revenue (Millions)</th>\n",
       "      <th>Metascore</th>\n",
       "    </tr>\n",
       "  </thead>\n",
       "  <tbody>\n",
       "    <tr>\n",
       "      <th>0</th>\n",
       "      <td>2006</td>\n",
       "      <td>25894</td>\n",
       "      <td>5317</td>\n",
       "      <td>313.5</td>\n",
       "      <td>11848758</td>\n",
       "      <td>3624.46</td>\n",
       "      <td>2641.0</td>\n",
       "    </tr>\n",
       "    <tr>\n",
       "      <th>1</th>\n",
       "      <td>2007</td>\n",
       "      <td>30559</td>\n",
       "      <td>6446</td>\n",
       "      <td>378.1</td>\n",
       "      <td>12949545</td>\n",
       "      <td>4306.23</td>\n",
       "      <td>2967.0</td>\n",
       "    </tr>\n",
       "    <tr>\n",
       "      <th>2</th>\n",
       "      <td>2008</td>\n",
       "      <td>32533</td>\n",
       "      <td>5763</td>\n",
       "      <td>352.8</td>\n",
       "      <td>14326280</td>\n",
       "      <td>5053.22</td>\n",
       "      <td>2813.0</td>\n",
       "    </tr>\n",
       "    <tr>\n",
       "      <th>3</th>\n",
       "      <td>2009</td>\n",
       "      <td>29928</td>\n",
       "      <td>5922</td>\n",
       "      <td>355.0</td>\n",
       "      <td>13044813</td>\n",
       "      <td>5292.26</td>\n",
       "      <td>2799.0</td>\n",
       "    </tr>\n",
       "    <tr>\n",
       "      <th>4</th>\n",
       "      <td>2010</td>\n",
       "      <td>35239</td>\n",
       "      <td>6668</td>\n",
       "      <td>409.6</td>\n",
       "      <td>15166939</td>\n",
       "      <td>5989.65</td>\n",
       "      <td>3504.0</td>\n",
       "    </tr>\n",
       "    <tr>\n",
       "      <th>5</th>\n",
       "      <td>2011</td>\n",
       "      <td>37143</td>\n",
       "      <td>7220</td>\n",
       "      <td>430.8</td>\n",
       "      <td>15169789</td>\n",
       "      <td>5431.96</td>\n",
       "      <td>3580.0</td>\n",
       "    </tr>\n",
       "    <tr>\n",
       "      <th>6</th>\n",
       "      <td>2012</td>\n",
       "      <td>34104</td>\n",
       "      <td>7623</td>\n",
       "      <td>443.2</td>\n",
       "      <td>18254470</td>\n",
       "      <td>6910.29</td>\n",
       "      <td>3791.0</td>\n",
       "    </tr>\n",
       "    <tr>\n",
       "      <th>7</th>\n",
       "      <td>2013</td>\n",
       "      <td>50617</td>\n",
       "      <td>10562</td>\n",
       "      <td>619.9</td>\n",
       "      <td>19933518</td>\n",
       "      <td>7666.72</td>\n",
       "      <td>5034.0</td>\n",
       "    </tr>\n",
       "    <tr>\n",
       "      <th>8</th>\n",
       "      <td>2014</td>\n",
       "      <td>50272</td>\n",
       "      <td>11220</td>\n",
       "      <td>670.1</td>\n",
       "      <td>19985162</td>\n",
       "      <td>7997.40</td>\n",
       "      <td>5445.0</td>\n",
       "    </tr>\n",
       "    <tr>\n",
       "      <th>9</th>\n",
       "      <td>2015</td>\n",
       "      <td>62407</td>\n",
       "      <td>14541</td>\n",
       "      <td>838.5</td>\n",
       "      <td>14697230</td>\n",
       "      <td>8854.12</td>\n",
       "      <td>7016.0</td>\n",
       "    </tr>\n",
       "    <tr>\n",
       "      <th>10</th>\n",
       "      <td>2016</td>\n",
       "      <td>111804</td>\n",
       "      <td>31890</td>\n",
       "      <td>1911.7</td>\n",
       "      <td>14431751</td>\n",
       "      <td>11211.65</td>\n",
       "      <td>15620.0</td>\n",
       "    </tr>\n",
       "  </tbody>\n",
       "</table>\n",
       "</div>"
      ],
      "text/plain": [
       "    Year    Rank  Runtime (Minutes)  Rating     Votes  Revenue (Millions)  \\\n",
       "0   2006   25894               5317   313.5  11848758             3624.46   \n",
       "1   2007   30559               6446   378.1  12949545             4306.23   \n",
       "2   2008   32533               5763   352.8  14326280             5053.22   \n",
       "3   2009   29928               5922   355.0  13044813             5292.26   \n",
       "4   2010   35239               6668   409.6  15166939             5989.65   \n",
       "5   2011   37143               7220   430.8  15169789             5431.96   \n",
       "6   2012   34104               7623   443.2  18254470             6910.29   \n",
       "7   2013   50617              10562   619.9  19933518             7666.72   \n",
       "8   2014   50272              11220   670.1  19985162             7997.40   \n",
       "9   2015   62407              14541   838.5  14697230             8854.12   \n",
       "10  2016  111804              31890  1911.7  14431751            11211.65   \n",
       "\n",
       "    Metascore  \n",
       "0      2641.0  \n",
       "1      2967.0  \n",
       "2      2813.0  \n",
       "3      2799.0  \n",
       "4      3504.0  \n",
       "5      3580.0  \n",
       "6      3791.0  \n",
       "7      5034.0  \n",
       "8      5445.0  \n",
       "9      7016.0  \n",
       "10    15620.0  "
      ]
     },
     "execution_count": 18,
     "metadata": {},
     "output_type": "execute_result"
    }
   ],
   "source": [
    "revenue_by_year = movies.groupby(\"Year\", as_index=False).sum()\n",
    "revenue_by_year"
   ]
  },
  {
   "cell_type": "markdown",
   "metadata": {},
   "source": [
    "### Using Matplot"
   ]
  },
  {
   "cell_type": "code",
   "execution_count": 22,
   "metadata": {},
   "outputs": [
    {
     "data": {
      "image/png": "[encoded data removed]",
      "text/plain": [
       "<Figure size 432x288 with 1 Axes>"
      ]
     },
     "metadata": {},
     "output_type": "display_data"
    }
   ],
   "source": [
    "revenue_by_year = movies.groupby(\"Year\", as_index=False).sum()\n",
    "plt.figure()\n",
    "x1 = revenue_by_year[\"Year\"]\n",
    "x2 = revenue_by_year[\"Revenue (Millions)\"]\n",
    "plt.plot(x1, label=\"Year\")\n",
    "plt.plot(x2, label=\"Revenue\")\n",
    "plt.legend()\n",
    "plt.show()"
   ]
  },
  {
   "cell_type": "markdown",
   "metadata": {},
   "source": [
    "### Using seaborn"
   ]
  },
  {
   "cell_type": "code",
   "execution_count": 10,
   "metadata": {},
   "outputs": [],
   "source": [
    "sns.set()"
   ]
  },
  {
   "cell_type": "markdown",
   "metadata": {},
   "source": [
    "### Consolidate the Revenue by Year"
   ]
  },
  {
   "cell_type": "code",
   "execution_count": 11,
   "metadata": {},
   "outputs": [
    {
     "name": "stdout",
     "output_type": "stream",
     "text": [
      "\n"
     ]
    },
    {
     "data": {
      "image/png": "[encoded data removed]",
      "text/plain": [
       "<Figure size 360x360 with 1 Axes>"
      ]
     },
     "metadata": {},
     "output_type": "display_data"
    }
   ],
   "source": [
    "revenue_by_year = movies.groupby(\"Year\", as_index=False).sum()\n",
    "sns.relplot(x=\"Year\",y =\"Revenue (Millions)\", data=revenue_by_year)\n",
    "print()"
   ]
  },
  {
   "cell_type": "markdown",
   "metadata": {},
   "source": [
    "### Insights over the shown data\n",
    "\n",
    "- It seems a constant growth in revenue each year.\n",
    "- The reasons this grow in revenue is not clear, with this information we can't know why we have this grown. Is because is more population in the word? Is it because some genre develops more revenue? Is it because the actors are more handsome?\n",
    "- It seems that if the movie producers keep doing what they are doing, and the customer conditions are the same, the revenues will continue growing.\n",
    "- Something happened between 2010 and 2012 that the revenue had a decrease, is not clear the year not the reason."
   ]
  },
  {
   "cell_type": "markdown",
   "metadata": {},
   "source": [
    "### Showing the same data in a bar graph"
   ]
  },
  {
   "cell_type": "code",
   "execution_count": 12,
   "metadata": {},
   "outputs": [
    {
     "data": {
      "image/png": "[encoded data removed]",
      "text/plain": [
       "<Figure size 432x288 with 1 Axes>"
      ]
     },
     "metadata": {},
     "output_type": "display_data"
    }
   ],
   "source": [
    "graph =sns.barplot(x=\"Year\", y=\"Revenue (Millions)\", data=revenue_by_year)"
   ]
  },
  {
   "cell_type": "markdown",
   "metadata": {},
   "source": [
    "- This graph shows the exact year that the revenues had a decrease: 2011."
   ]
  },
  {
   "cell_type": "markdown",
   "metadata": {},
   "source": [
    "## Housing information \n",
    "### Loading the information"
   ]
  },
  {
   "cell_type": "code",
   "execution_count": 23,
   "metadata": {},
   "outputs": [],
   "source": [
    "housing = pd.read_csv('cities.csv')"
   ]
  },
  {
   "cell_type": "markdown",
   "metadata": {},
   "source": [
    "### Showing the first 5 rows"
   ]
  },
  {
   "cell_type": "code",
   "execution_count": 24,
   "metadata": {},
   "outputs": [
    {
     "data": {
      "text/html": [
       "<div>\n",
       "<style scoped>\n",
       "    .dataframe tbody tr th:only-of-type {\n",
       "        vertical-align: middle;\n",
       "    }\n",
       "\n",
       "    .dataframe tbody tr th {\n",
       "        vertical-align: top;\n",
       "    }\n",
       "\n",
       "    .dataframe thead th {\n",
       "        text-align: right;\n",
       "    }\n",
       "</style>\n",
       "<table border=\"1\" class=\"dataframe\">\n",
       "  <thead>\n",
       "    <tr style=\"text-align: right;\">\n",
       "      <th></th>\n",
       "      <th>City</th>\n",
       "      <th>Country</th>\n",
       "      <th>Housing Affordability</th>\n",
       "      <th>Living Costs by Income</th>\n",
       "      <th>Unemployment</th>\n",
       "      <th>Education</th>\n",
       "      <th>Safety</th>\n",
       "      <th>Mobility</th>\n",
       "      <th>Air Quality</th>\n",
       "      <th>Healthcare</th>\n",
       "      <th>Kids Activities</th>\n",
       "      <th>Paid Parental Leave</th>\n",
       "      <th>Family Inclusivity</th>\n",
       "      <th>Neighbourhood Safety</th>\n",
       "      <th>Family-Friendliness</th>\n",
       "      <th>Total</th>\n",
       "      <th>Lat</th>\n",
       "      <th>Long</th>\n",
       "    </tr>\n",
       "  </thead>\n",
       "  <tbody>\n",
       "    <tr>\n",
       "      <th>0</th>\n",
       "      <td>Helsinki</td>\n",
       "      <td>Finland</td>\n",
       "      <td>76.29</td>\n",
       "      <td>91.71</td>\n",
       "      <td>9.20</td>\n",
       "      <td>92.54</td>\n",
       "      <td>88.7</td>\n",
       "      <td>77.30</td>\n",
       "      <td>19.11</td>\n",
       "      <td>84.40</td>\n",
       "      <td>71.15</td>\n",
       "      <td>1190</td>\n",
       "      <td>100.0</td>\n",
       "      <td>89</td>\n",
       "      <td>95</td>\n",
       "      <td>100.00</td>\n",
       "      <td>60.167410</td>\n",
       "      <td>24.942577</td>\n",
       "    </tr>\n",
       "    <tr>\n",
       "      <th>1</th>\n",
       "      <td>Quebec</td>\n",
       "      <td>Canada</td>\n",
       "      <td>99.81</td>\n",
       "      <td>86.30</td>\n",
       "      <td>3.80</td>\n",
       "      <td>95.23</td>\n",
       "      <td>92.5</td>\n",
       "      <td>73.02</td>\n",
       "      <td>18.00</td>\n",
       "      <td>76.32</td>\n",
       "      <td>78.66</td>\n",
       "      <td>364</td>\n",
       "      <td>100.0</td>\n",
       "      <td>94</td>\n",
       "      <td>92</td>\n",
       "      <td>99.06</td>\n",
       "      <td>52.476089</td>\n",
       "      <td>-71.825867</td>\n",
       "    </tr>\n",
       "    <tr>\n",
       "      <th>2</th>\n",
       "      <td>Oslo</td>\n",
       "      <td>Norway</td>\n",
       "      <td>84.60</td>\n",
       "      <td>94.95</td>\n",
       "      <td>2.30</td>\n",
       "      <td>89.08</td>\n",
       "      <td>87.3</td>\n",
       "      <td>75.95</td>\n",
       "      <td>22.49</td>\n",
       "      <td>85.97</td>\n",
       "      <td>68.67</td>\n",
       "      <td>707</td>\n",
       "      <td>100.0</td>\n",
       "      <td>87</td>\n",
       "      <td>96</td>\n",
       "      <td>98.13</td>\n",
       "      <td>59.913330</td>\n",
       "      <td>10.738970</td>\n",
       "    </tr>\n",
       "    <tr>\n",
       "      <th>3</th>\n",
       "      <td>Munich</td>\n",
       "      <td>Germany</td>\n",
       "      <td>83.49</td>\n",
       "      <td>100.00</td>\n",
       "      <td>3.77</td>\n",
       "      <td>90.06</td>\n",
       "      <td>90.4</td>\n",
       "      <td>79.00</td>\n",
       "      <td>21.38</td>\n",
       "      <td>73.33</td>\n",
       "      <td>78.16</td>\n",
       "      <td>467</td>\n",
       "      <td>100.0</td>\n",
       "      <td>83</td>\n",
       "      <td>94</td>\n",
       "      <td>96.75</td>\n",
       "      <td>48.137108</td>\n",
       "      <td>11.575382</td>\n",
       "    </tr>\n",
       "    <tr>\n",
       "      <th>4</th>\n",
       "      <td>Copenhagen</td>\n",
       "      <td>Denmark</td>\n",
       "      <td>80.60</td>\n",
       "      <td>94.88</td>\n",
       "      <td>4.40</td>\n",
       "      <td>89.08</td>\n",
       "      <td>93.6</td>\n",
       "      <td>98.09</td>\n",
       "      <td>26.54</td>\n",
       "      <td>73.47</td>\n",
       "      <td>78.79</td>\n",
       "      <td>364</td>\n",
       "      <td>100.0</td>\n",
       "      <td>81</td>\n",
       "      <td>92</td>\n",
       "      <td>96.53</td>\n",
       "      <td>55.686724</td>\n",
       "      <td>12.570072</td>\n",
       "    </tr>\n",
       "  </tbody>\n",
       "</table>\n",
       "</div>"
      ],
      "text/plain": [
       "         City  Country  Housing Affordability  Living Costs by Income  \\\n",
       "0    Helsinki  Finland                  76.29                   91.71   \n",
       "1      Quebec   Canada                  99.81                   86.30   \n",
       "2        Oslo   Norway                  84.60                   94.95   \n",
       "3      Munich  Germany                  83.49                  100.00   \n",
       "4  Copenhagen  Denmark                  80.60                   94.88   \n",
       "\n",
       "   Unemployment  Education  Safety  Mobility  Air Quality  Healthcare  \\\n",
       "0          9.20      92.54    88.7     77.30        19.11       84.40   \n",
       "1          3.80      95.23    92.5     73.02        18.00       76.32   \n",
       "2          2.30      89.08    87.3     75.95        22.49       85.97   \n",
       "3          3.77      90.06    90.4     79.00        21.38       73.33   \n",
       "4          4.40      89.08    93.6     98.09        26.54       73.47   \n",
       "\n",
       "   Kids Activities  Paid Parental Leave  Family Inclusivity  \\\n",
       "0            71.15                 1190               100.0   \n",
       "1            78.66                  364               100.0   \n",
       "2            68.67                  707               100.0   \n",
       "3            78.16                  467               100.0   \n",
       "4            78.79                  364               100.0   \n",
       "\n",
       "   Neighbourhood Safety  Family-Friendliness   Total        Lat       Long  \n",
       "0                    89                   95  100.00  60.167410  24.942577  \n",
       "1                    94                   92   99.06  52.476089 -71.825867  \n",
       "2                    87                   96   98.13  59.913330  10.738970  \n",
       "3                    83                   94   96.75  48.137108  11.575382  \n",
       "4                    81                   92   96.53  55.686724  12.570072  "
      ]
     },
     "execution_count": 24,
     "metadata": {},
     "output_type": "execute_result"
    }
   ],
   "source": [
    "housing.head(5)"
   ]
  },
  {
   "cell_type": "markdown",
   "metadata": {},
   "source": [
    "### Showing the dataframe description"
   ]
  },
  {
   "cell_type": "code",
   "execution_count": 26,
   "metadata": {},
   "outputs": [
    {
     "data": {
      "text/plain": [
       "<bound method NDFrame.describe of             City  Country  Housing Affordability  Living Costs by Income  \\\n",
       "0       Helsinki  Finland                  76.29                   91.71   \n",
       "1         Quebec   Canada                  99.81                   86.30   \n",
       "2           Oslo   Norway                  84.60                   94.95   \n",
       "3         Munich  Germany                  83.49                  100.00   \n",
       "4     Copenhagen  Denmark                  80.60                   94.88   \n",
       "..           ...      ...                    ...                     ...   \n",
       "145       Manama  Bahrain                  48.95                   70.29   \n",
       "146       Ankara   Turkey                  65.29                   15.37   \n",
       "147        Izmir   Turkey                  57.27                    5.54   \n",
       "148  Kuwait City   Kuwait                   1.00                   64.96   \n",
       "149     Istanbul   Turkey                  22.51                    1.00   \n",
       "\n",
       "     Unemployment  Education  Safety  Mobility  Air Quality  Healthcare  \\\n",
       "0            9.20      92.54    88.7     77.30        19.11       84.40   \n",
       "1            3.80      95.23    92.5     73.02        18.00       76.32   \n",
       "2            2.30      89.08    87.3     75.95        22.49       85.97   \n",
       "3            3.77      90.06    90.4     79.00        21.38       73.33   \n",
       "4            4.40      89.08    93.6     98.09        26.54       73.47   \n",
       "..            ...        ...     ...       ...          ...         ...   \n",
       "145          3.90      79.80    71.3      1.00       115.08       11.20   \n",
       "146         10.10      74.02    73.4     53.12        76.97       19.27   \n",
       "147         13.70      74.02    76.0     56.67        48.51       20.04   \n",
       "148          2.07      67.00    80.4     21.46       164.63       34.77   \n",
       "149         12.40      74.02    65.2     27.03        53.37       19.20   \n",
       "\n",
       "     Kids Activities  Paid Parental Leave  Family Inclusivity  \\\n",
       "0              71.15                 1190              100.00   \n",
       "1              78.66                  364              100.00   \n",
       "2              68.67                  707              100.00   \n",
       "3              78.16                  467              100.00   \n",
       "4              78.79                  364              100.00   \n",
       "..               ...                  ...                 ...   \n",
       "145            56.48                   60                1.00   \n",
       "146            78.83                  119                9.53   \n",
       "147            71.62                  119                9.53   \n",
       "148            56.80                   70               16.40   \n",
       "149            95.71                  119                9.53   \n",
       "\n",
       "     Neighbourhood Safety  Family-Friendliness   Total        Lat       Long  \n",
       "0                      89                   95  100.00  60.167410  24.942577  \n",
       "1                      94                   92   99.06  52.476089 -71.825867  \n",
       "2                      87                   96   98.13  59.913330  10.738970  \n",
       "3                      83                   94   96.75  48.137108  11.575382  \n",
       "4                      81                   92   96.53  55.686724  12.570072  \n",
       "..                    ...                  ...     ...        ...        ...  \n",
       "145                    83                   85   21.98  26.223504  50.582244  \n",
       "146                    74                   79   19.30  39.716044  32.705995  \n",
       "147                    52                   78   14.68  38.414733  27.143412  \n",
       "148                    81                   72   12.93  29.379709  47.973563  \n",
       "149                    75                   71    1.00  41.076602  29.052495  \n",
       "\n",
       "[150 rows x 18 columns]>"
      ]
     },
     "execution_count": 26,
     "metadata": {},
     "output_type": "execute_result"
    }
   ],
   "source": [
    "housing.describe"
   ]
  },
  {
   "cell_type": "markdown",
   "metadata": {},
   "source": [
    "### Showing the dataframe info"
   ]
  },
  {
   "cell_type": "code",
   "execution_count": 28,
   "metadata": {},
   "outputs": [
    {
     "data": {
      "text/plain": [
       "<bound method DataFrame.info of             City  Country  Housing Affordability  Living Costs by Income  \\\n",
       "0       Helsinki  Finland                  76.29                   91.71   \n",
       "1         Quebec   Canada                  99.81                   86.30   \n",
       "2           Oslo   Norway                  84.60                   94.95   \n",
       "3         Munich  Germany                  83.49                  100.00   \n",
       "4     Copenhagen  Denmark                  80.60                   94.88   \n",
       "..           ...      ...                    ...                     ...   \n",
       "145       Manama  Bahrain                  48.95                   70.29   \n",
       "146       Ankara   Turkey                  65.29                   15.37   \n",
       "147        Izmir   Turkey                  57.27                    5.54   \n",
       "148  Kuwait City   Kuwait                   1.00                   64.96   \n",
       "149     Istanbul   Turkey                  22.51                    1.00   \n",
       "\n",
       "     Unemployment  Education  Safety  Mobility  Air Quality  Healthcare  \\\n",
       "0            9.20      92.54    88.7     77.30        19.11       84.40   \n",
       "1            3.80      95.23    92.5     73.02        18.00       76.32   \n",
       "2            2.30      89.08    87.3     75.95        22.49       85.97   \n",
       "3            3.77      90.06    90.4     79.00        21.38       73.33   \n",
       "4            4.40      89.08    93.6     98.09        26.54       73.47   \n",
       "..            ...        ...     ...       ...          ...         ...   \n",
       "145          3.90      79.80    71.3      1.00       115.08       11.20   \n",
       "146         10.10      74.02    73.4     53.12        76.97       19.27   \n",
       "147         13.70      74.02    76.0     56.67        48.51       20.04   \n",
       "148          2.07      67.00    80.4     21.46       164.63       34.77   \n",
       "149         12.40      74.02    65.2     27.03        53.37       19.20   \n",
       "\n",
       "     Kids Activities  Paid Parental Leave  Family Inclusivity  \\\n",
       "0              71.15                 1190              100.00   \n",
       "1              78.66                  364              100.00   \n",
       "2              68.67                  707              100.00   \n",
       "3              78.16                  467              100.00   \n",
       "4              78.79                  364              100.00   \n",
       "..               ...                  ...                 ...   \n",
       "145            56.48                   60                1.00   \n",
       "146            78.83                  119                9.53   \n",
       "147            71.62                  119                9.53   \n",
       "148            56.80                   70               16.40   \n",
       "149            95.71                  119                9.53   \n",
       "\n",
       "     Neighbourhood Safety  Family-Friendliness   Total        Lat       Long  \n",
       "0                      89                   95  100.00  60.167410  24.942577  \n",
       "1                      94                   92   99.06  52.476089 -71.825867  \n",
       "2                      87                   96   98.13  59.913330  10.738970  \n",
       "3                      83                   94   96.75  48.137108  11.575382  \n",
       "4                      81                   92   96.53  55.686724  12.570072  \n",
       "..                    ...                  ...     ...        ...        ...  \n",
       "145                    83                   85   21.98  26.223504  50.582244  \n",
       "146                    74                   79   19.30  39.716044  32.705995  \n",
       "147                    52                   78   14.68  38.414733  27.143412  \n",
       "148                    81                   72   12.93  29.379709  47.973563  \n",
       "149                    75                   71    1.00  41.076602  29.052495  \n",
       "\n",
       "[150 rows x 18 columns]>"
      ]
     },
     "execution_count": 28,
     "metadata": {},
     "output_type": "execute_result"
    }
   ],
   "source": [
    "housing.info"
   ]
  },
  {
   "cell_type": "markdown",
   "metadata": {},
   "source": [
    "### Dataset columns"
   ]
  },
  {
   "cell_type": "code",
   "execution_count": 30,
   "metadata": {},
   "outputs": [
    {
     "data": {
      "text/plain": [
       "Index(['City', 'Country', 'Housing Affordability', 'Living Costs by Income',\n",
       "       'Unemployment', 'Education', 'Safety', 'Mobility', 'Air Quality',\n",
       "       'Healthcare', 'Kids Activities', 'Paid Parental Leave',\n",
       "       'Family Inclusivity', 'Neighbourhood Safety', 'Family-Friendliness',\n",
       "       'Total', 'Lat', 'Long'],\n",
       "      dtype='object')"
      ]
     },
     "execution_count": 30,
     "metadata": {},
     "output_type": "execute_result"
    }
   ],
   "source": [
    "housing.columns"
   ]
  },
  {
   "cell_type": "markdown",
   "metadata": {},
   "source": [
    "### Create a subset "
   ]
  },
  {
   "cell_type": "code",
   "execution_count": 44,
   "metadata": {},
   "outputs": [
    {
     "data": {
      "text/html": [
       "<div>\n",
       "<style scoped>\n",
       "    .dataframe tbody tr th:only-of-type {\n",
       "        vertical-align: middle;\n",
       "    }\n",
       "\n",
       "    .dataframe tbody tr th {\n",
       "        vertical-align: top;\n",
       "    }\n",
       "\n",
       "    .dataframe thead th {\n",
       "        text-align: right;\n",
       "    }\n",
       "</style>\n",
       "<table border=\"1\" class=\"dataframe\">\n",
       "  <thead>\n",
       "    <tr style=\"text-align: right;\">\n",
       "      <th></th>\n",
       "      <th>Country</th>\n",
       "      <th>Education</th>\n",
       "      <th>Safety</th>\n",
       "      <th>Housing Affordability</th>\n",
       "    </tr>\n",
       "  </thead>\n",
       "  <tbody>\n",
       "    <tr>\n",
       "      <th>0</th>\n",
       "      <td>Finland</td>\n",
       "      <td>92.54</td>\n",
       "      <td>88.7</td>\n",
       "      <td>76.29</td>\n",
       "    </tr>\n",
       "    <tr>\n",
       "      <th>1</th>\n",
       "      <td>Canada</td>\n",
       "      <td>95.23</td>\n",
       "      <td>92.5</td>\n",
       "      <td>99.81</td>\n",
       "    </tr>\n",
       "    <tr>\n",
       "      <th>2</th>\n",
       "      <td>Norway</td>\n",
       "      <td>89.08</td>\n",
       "      <td>87.3</td>\n",
       "      <td>84.60</td>\n",
       "    </tr>\n",
       "    <tr>\n",
       "      <th>3</th>\n",
       "      <td>Germany</td>\n",
       "      <td>90.06</td>\n",
       "      <td>90.4</td>\n",
       "      <td>83.49</td>\n",
       "    </tr>\n",
       "    <tr>\n",
       "      <th>4</th>\n",
       "      <td>Denmark</td>\n",
       "      <td>89.08</td>\n",
       "      <td>93.6</td>\n",
       "      <td>80.60</td>\n",
       "    </tr>\n",
       "    <tr>\n",
       "      <th>...</th>\n",
       "      <td>...</td>\n",
       "      <td>...</td>\n",
       "      <td>...</td>\n",
       "      <td>...</td>\n",
       "    </tr>\n",
       "    <tr>\n",
       "      <th>145</th>\n",
       "      <td>Bahrain</td>\n",
       "      <td>79.80</td>\n",
       "      <td>71.3</td>\n",
       "      <td>48.95</td>\n",
       "    </tr>\n",
       "    <tr>\n",
       "      <th>146</th>\n",
       "      <td>Turkey</td>\n",
       "      <td>74.02</td>\n",
       "      <td>73.4</td>\n",
       "      <td>65.29</td>\n",
       "    </tr>\n",
       "    <tr>\n",
       "      <th>147</th>\n",
       "      <td>Turkey</td>\n",
       "      <td>74.02</td>\n",
       "      <td>76.0</td>\n",
       "      <td>57.27</td>\n",
       "    </tr>\n",
       "    <tr>\n",
       "      <th>148</th>\n",
       "      <td>Kuwait</td>\n",
       "      <td>67.00</td>\n",
       "      <td>80.4</td>\n",
       "      <td>1.00</td>\n",
       "    </tr>\n",
       "    <tr>\n",
       "      <th>149</th>\n",
       "      <td>Turkey</td>\n",
       "      <td>74.02</td>\n",
       "      <td>65.2</td>\n",
       "      <td>22.51</td>\n",
       "    </tr>\n",
       "  </tbody>\n",
       "</table>\n",
       "<p>89 rows × 4 columns</p>\n",
       "</div>"
      ],
      "text/plain": [
       "     Country  Education  Safety  Housing Affordability\n",
       "0    Finland      92.54    88.7                  76.29\n",
       "1     Canada      95.23    92.5                  99.81\n",
       "2     Norway      89.08    87.3                  84.60\n",
       "3    Germany      90.06    90.4                  83.49\n",
       "4    Denmark      89.08    93.6                  80.60\n",
       "..       ...        ...     ...                    ...\n",
       "145  Bahrain      79.80    71.3                  48.95\n",
       "146   Turkey      74.02    73.4                  65.29\n",
       "147   Turkey      74.02    76.0                  57.27\n",
       "148   Kuwait      67.00    80.4                   1.00\n",
       "149   Turkey      74.02    65.2                  22.51\n",
       "\n",
       "[89 rows x 4 columns]"
      ]
     },
     "execution_count": 44,
     "metadata": {},
     "output_type": "execute_result"
    }
   ],
   "source": [
    "# Country, Education, Safety, Housing Affordability\n",
    "# housing_education = housing[['Country', 'Education', 'Safety', 'Housing Affordability']].groupby('Country')\n",
    "# housing_education.head()"
   ]
  },
  {
   "cell_type": "markdown",
   "metadata": {},
   "source": [
    "### Using seaborn"
   ]
  },
  {
   "cell_type": "code",
   "execution_count": 50,
   "metadata": {},
   "outputs": [],
   "source": [
    "sns.set()"
   ]
  },
  {
   "cell_type": "markdown",
   "metadata": {},
   "source": [
    "### Create a subset of information"
   ]
  },
  {
   "cell_type": "code",
   "execution_count": 54,
   "metadata": {},
   "outputs": [],
   "source": [
    "housing_education = housing.groupby(\"Country\", as_index=False).sum()\n",
    "# sns.relplot(x=\"Country\",y =\"Safety\", data=housing_education)\n",
    "# print()\n"
   ]
  },
  {
   "cell_type": "code",
   "execution_count": 57,
   "metadata": {},
   "outputs": [
    {
     "name": "stdout",
     "output_type": "stream",
     "text": [
      "\n"
     ]
    },
    {
     "data": {
      "image/png": "[encoded data removed]",
      "text/plain": [
       "<Figure size 503.85x360 with 1 Axes>"
      ]
     },
     "metadata": {},
     "output_type": "display_data"
    }
   ],
   "source": [
    "sns.relplot(x=\"Country\",y =\"Safety\", hue='Country', data=housing_education)\n",
    "print()"
   ]
  },
  {
   "cell_type": "code",
   "execution_count": 73,
   "metadata": {},
   "outputs": [
    {
     "name": "stdout",
     "output_type": "stream",
     "text": [
      "\n"
     ]
    },
    {
     "data": {
      "image/png": "[encoded data removed]",
      "text/plain": [
       "<Figure size 432x288 with 1 Axes>"
      ]
     },
     "metadata": {},
     "output_type": "display_data"
    }
   ],
   "source": [
    "from calendar import month_abbr\n",
    "contries= housing_education['Country']\n",
    "g=sns.barplot(x=\"Education\",y=\"Safety\", data=housing_education)\n",
    "\n",
    "g.set_xticklabels(labels=contries, rotation=90)\n",
    "\n",
    "\n",
    "print()"
   ]
  },
  {
   "cell_type": "code",
   "execution_count": null,
   "metadata": {},
   "outputs": [],
   "source": []
  }
 ],
 "metadata": {
  "kernelspec": {
   "display_name": "Python 3",
   "language": "python",
   "name": "python3"
  },
  "language_info": {
   "codemirror_mode": {
    "name": "ipython",
    "version": 3
   },
   "file_extension": ".py",
   "mimetype": "text/x-python",
   "name": "python",
   "nbconvert_exporter": "python",
   "pygments_lexer": "ipython3",
   "version": "3.8.2"
  }
 },
 "nbformat": 4,
 "nbformat_minor": 4
}
